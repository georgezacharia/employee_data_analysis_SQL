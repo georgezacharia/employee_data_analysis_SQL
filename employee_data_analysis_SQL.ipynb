{
 "cells": [
  {
   "cell_type": "markdown",
   "id": "531acaf9-5cdb-4df2-bdb9-aa2b9d0bcdbd",
   "metadata": {},
   "source": [
    "## Employee Data Analysis Project"
   ]
  },
  {
   "cell_type": "markdown",
   "id": "22c7ae5e-7b54-4abc-a090-3f68dcdb40b8",
   "metadata": {},
   "source": [
    "### Project Objective\n",
    "The objective of this project is to analyze the employee dataset to uncover insights related to employee performance, demographics, and training outcomes. The analysis will utilize various SQL queries and visualizations to provide actionable recommendations for improving employee engagement and performance across different departments and regions."
   ]
  },
  {
   "cell_type": "markdown",
   "id": "305f77ad-9236-4a15-95cb-a2ab173f25c8",
   "metadata": {},
   "source": [
    "### Importing Necessary Libraries"
   ]
  },
  {
   "cell_type": "code",
   "execution_count": 1,
   "id": "a797ab4b-aad2-4d00-934c-cc6f7dcc86ae",
   "metadata": {},
   "outputs": [],
   "source": [
    "import pandas as pd"
   ]
  },
  {
   "cell_type": "code",
   "execution_count": 16,
   "id": "6be447b8-075a-4ebd-866b-bface44912fa",
   "metadata": {},
   "outputs": [],
   "source": [
    "import sqlite3"
   ]
  },
  {
   "cell_type": "code",
   "execution_count": 18,
   "id": "fe43cf44-82a5-417b-8bf1-c4c4f10cb6d0",
   "metadata": {},
   "outputs": [],
   "source": [
    "import matplotlib.pyplot as plt"
   ]
  },
  {
   "cell_type": "markdown",
   "id": "26b63d7e-e3d3-47cc-a341-a062e8f5cfef",
   "metadata": {},
   "source": [
    "### Load the Employee Dataset"
   ]
  },
  {
   "cell_type": "code",
   "execution_count": 3,
   "id": "b859a441-e166-49f2-860c-769aa9cf4880",
   "metadata": {},
   "outputs": [],
   "source": [
    "data = pd.read_csv(r\"C:\\Users\\LENOVO\\Desktop\\SQL\\archive\\employee_dataset.csv\")"
   ]
  },
  {
   "cell_type": "markdown",
   "id": "af72407a-4403-40eb-8ff9-e47a955aa6a9",
   "metadata": {},
   "source": [
    "### Set up SQLite Database"
   ]
  },
  {
   "cell_type": "code",
   "execution_count": 23,
   "id": "fb014d6e-55cd-4d8a-8049-c6cf21791c94",
   "metadata": {},
   "outputs": [],
   "source": [
    "conn = sqlite3.connect('employee_analysis.db')"
   ]
  },
  {
   "cell_type": "markdown",
   "id": "76531efa-984b-4b3a-a6eb-74a5b8111e3c",
   "metadata": {},
   "source": [
    "### Load the DataFrame into a SQL table"
   ]
  },
  {
   "cell_type": "code",
   "execution_count": 28,
   "id": "a074a561-d628-4dc3-9db0-0e30c8ecc8be",
   "metadata": {},
   "outputs": [
    {
     "data": {
      "text/plain": [
       "17417"
      ]
     },
     "execution_count": 28,
     "metadata": {},
     "output_type": "execute_result"
    }
   ],
   "source": [
    "data.to_sql('employee', conn, if_exists='replace', index=False)"
   ]
  },
  {
   "cell_type": "markdown",
   "id": "fb2aa3f3-894f-4bba-91c7-0c6cb1528b07",
   "metadata": {},
   "source": [
    "### Check the first few rows of the table"
   ]
  },
  {
   "cell_type": "code",
   "execution_count": 31,
   "id": "dfd1a2d7-b30b-413f-b480-460a39834998",
   "metadata": {},
   "outputs": [
    {
     "data": {
      "text/html": [
       "<div>\n",
       "<style scoped>\n",
       "    .dataframe tbody tr th:only-of-type {\n",
       "        vertical-align: middle;\n",
       "    }\n",
       "\n",
       "    .dataframe tbody tr th {\n",
       "        vertical-align: top;\n",
       "    }\n",
       "\n",
       "    .dataframe thead th {\n",
       "        text-align: right;\n",
       "    }\n",
       "</style>\n",
       "<table border=\"1\" class=\"dataframe\">\n",
       "  <thead>\n",
       "    <tr style=\"text-align: right;\">\n",
       "      <th></th>\n",
       "      <th>employee_id</th>\n",
       "      <th>department</th>\n",
       "      <th>region</th>\n",
       "      <th>education</th>\n",
       "      <th>gender</th>\n",
       "      <th>recruitment_channel</th>\n",
       "      <th>no_of_trainings</th>\n",
       "      <th>age</th>\n",
       "      <th>previous_year_rating</th>\n",
       "      <th>length_of_service</th>\n",
       "      <th>KPIs_met_more_than_80</th>\n",
       "      <th>awards_won</th>\n",
       "      <th>avg_training_score</th>\n",
       "    </tr>\n",
       "  </thead>\n",
       "  <tbody>\n",
       "    <tr>\n",
       "      <th>0</th>\n",
       "      <td>8724</td>\n",
       "      <td>Technology</td>\n",
       "      <td>region_26</td>\n",
       "      <td>Bachelors</td>\n",
       "      <td>m</td>\n",
       "      <td>sourcing</td>\n",
       "      <td>1</td>\n",
       "      <td>24</td>\n",
       "      <td>NaN</td>\n",
       "      <td>1</td>\n",
       "      <td>1</td>\n",
       "      <td>0</td>\n",
       "      <td>77</td>\n",
       "    </tr>\n",
       "    <tr>\n",
       "      <th>1</th>\n",
       "      <td>74430</td>\n",
       "      <td>HR</td>\n",
       "      <td>region_4</td>\n",
       "      <td>Bachelors</td>\n",
       "      <td>f</td>\n",
       "      <td>other</td>\n",
       "      <td>1</td>\n",
       "      <td>31</td>\n",
       "      <td>3.0</td>\n",
       "      <td>5</td>\n",
       "      <td>0</td>\n",
       "      <td>0</td>\n",
       "      <td>51</td>\n",
       "    </tr>\n",
       "    <tr>\n",
       "      <th>2</th>\n",
       "      <td>72255</td>\n",
       "      <td>Sales &amp; Marketing</td>\n",
       "      <td>region_13</td>\n",
       "      <td>Bachelors</td>\n",
       "      <td>m</td>\n",
       "      <td>other</td>\n",
       "      <td>1</td>\n",
       "      <td>31</td>\n",
       "      <td>1.0</td>\n",
       "      <td>4</td>\n",
       "      <td>0</td>\n",
       "      <td>0</td>\n",
       "      <td>47</td>\n",
       "    </tr>\n",
       "    <tr>\n",
       "      <th>3</th>\n",
       "      <td>38562</td>\n",
       "      <td>Procurement</td>\n",
       "      <td>region_2</td>\n",
       "      <td>Bachelors</td>\n",
       "      <td>f</td>\n",
       "      <td>other</td>\n",
       "      <td>3</td>\n",
       "      <td>31</td>\n",
       "      <td>2.0</td>\n",
       "      <td>9</td>\n",
       "      <td>0</td>\n",
       "      <td>0</td>\n",
       "      <td>65</td>\n",
       "    </tr>\n",
       "    <tr>\n",
       "      <th>4</th>\n",
       "      <td>64486</td>\n",
       "      <td>Finance</td>\n",
       "      <td>region_29</td>\n",
       "      <td>Bachelors</td>\n",
       "      <td>m</td>\n",
       "      <td>sourcing</td>\n",
       "      <td>1</td>\n",
       "      <td>30</td>\n",
       "      <td>4.0</td>\n",
       "      <td>7</td>\n",
       "      <td>0</td>\n",
       "      <td>0</td>\n",
       "      <td>61</td>\n",
       "    </tr>\n",
       "  </tbody>\n",
       "</table>\n",
       "</div>"
      ],
      "text/plain": [
       "   employee_id         department     region  education gender  \\\n",
       "0         8724         Technology  region_26  Bachelors      m   \n",
       "1        74430                 HR   region_4  Bachelors      f   \n",
       "2        72255  Sales & Marketing  region_13  Bachelors      m   \n",
       "3        38562        Procurement   region_2  Bachelors      f   \n",
       "4        64486            Finance  region_29  Bachelors      m   \n",
       "\n",
       "  recruitment_channel  no_of_trainings  age  previous_year_rating  \\\n",
       "0            sourcing                1   24                   NaN   \n",
       "1               other                1   31                   3.0   \n",
       "2               other                1   31                   1.0   \n",
       "3               other                3   31                   2.0   \n",
       "4            sourcing                1   30                   4.0   \n",
       "\n",
       "   length_of_service  KPIs_met_more_than_80  awards_won  avg_training_score  \n",
       "0                  1                      1           0                  77  \n",
       "1                  5                      0           0                  51  \n",
       "2                  4                      0           0                  47  \n",
       "3                  9                      0           0                  65  \n",
       "4                  7                      0           0                  61  "
      ]
     },
     "execution_count": 31,
     "metadata": {},
     "output_type": "execute_result"
    }
   ],
   "source": [
    "pd.read_sql('SELECT * FROM employee LIMIT 5', conn)"
   ]
  },
  {
   "cell_type": "markdown",
   "id": "3a6a46a6-c579-42a6-9b63-954cc0c4ce00",
   "metadata": {},
   "source": [
    "###  Check for NaN values in 'previous_year_rating'"
   ]
  },
  {
   "cell_type": "code",
   "execution_count": 37,
   "id": "2478d36d-e17d-4d24-b751-bdcccc77bda1",
   "metadata": {},
   "outputs": [
    {
     "data": {
      "text/plain": [
       "1363"
      ]
     },
     "execution_count": 37,
     "metadata": {},
     "output_type": "execute_result"
    }
   ],
   "source": [
    "data['previous_year_rating'].isna().sum()"
   ]
  },
  {
   "cell_type": "markdown",
   "id": "4a9de7a9-2c93-412d-b32c-2900179a4926",
   "metadata": {},
   "source": [
    "###  Impute NaN values with the median of the column"
   ]
  },
  {
   "cell_type": "code",
   "execution_count": 147,
   "id": "18e1ef22-8c99-482e-ace7-09660fe59968",
   "metadata": {},
   "outputs": [],
   "source": [
    "median_rating = data['previous_year_rating'].median()"
   ]
  },
  {
   "cell_type": "code",
   "execution_count": 168,
   "id": "d2f04612-4de9-490b-9587-88067f8a1955",
   "metadata": {},
   "outputs": [],
   "source": [
    "data['previous_year_rating'] = data['previous_year_rating'].fillna(median_rating)"
   ]
  },
  {
   "cell_type": "markdown",
   "id": "017550c9-92a0-44ba-85dd-401e72b76984",
   "metadata": {},
   "source": [
    "### Confirm no missing vlues"
   ]
  },
  {
   "cell_type": "code",
   "execution_count": 149,
   "id": "651baf78-e52d-4a23-b0eb-a505f3ff79f2",
   "metadata": {},
   "outputs": [
    {
     "data": {
      "text/plain": [
       "0"
      ]
     },
     "execution_count": 149,
     "metadata": {},
     "output_type": "execute_result"
    }
   ],
   "source": [
    "data['previous_year_rating'].isna().sum()"
   ]
  },
  {
   "cell_type": "markdown",
   "id": "db85f7cf-8552-4f52-8493-6a12ba016282",
   "metadata": {},
   "source": [
    "### 1. Employee Distribution by Department"
   ]
  },
  {
   "cell_type": "markdown",
   "id": "68d69329-8e8c-4013-9e98-da3143c75ef1",
   "metadata": {},
   "source": [
    "##### SQL query for employee distribution by department"
   ]
  },
  {
   "cell_type": "code",
   "execution_count": 57,
   "id": "4a796639-7a33-41ee-a09d-80472f66a645",
   "metadata": {},
   "outputs": [],
   "source": [
    "query = '''\n",
    "SELECT department, COUNT(employee_id) AS employee_count\n",
    "FROM employee\n",
    "GROUP BY department\n",
    "ORDER BY employee_count DESC;\n",
    "'''"
   ]
  },
  {
   "cell_type": "markdown",
   "id": "92b49a05-e447-45cc-81e5-24f144ffffc8",
   "metadata": {},
   "source": [
    "####  Execute the query and load the result into a DataFrame"
   ]
  },
  {
   "cell_type": "code",
   "execution_count": 61,
   "id": "164a343d-c65d-4646-aeef-e7f2fcb776ef",
   "metadata": {},
   "outputs": [],
   "source": [
    "employee_distribution = pd.read_sql(query, conn)"
   ]
  },
  {
   "cell_type": "markdown",
   "id": "200beb98-c5e5-4b8a-8626-d2738a43ffb4",
   "metadata": {},
   "source": [
    "#### Display the result"
   ]
  },
  {
   "cell_type": "code",
   "execution_count": 69,
   "id": "6a0fd9a5-fd92-4839-8c11-5133bffc9ca2",
   "metadata": {},
   "outputs": [
    {
     "data": {
      "text/html": [
       "<div>\n",
       "<style scoped>\n",
       "    .dataframe tbody tr th:only-of-type {\n",
       "        vertical-align: middle;\n",
       "    }\n",
       "\n",
       "    .dataframe tbody tr th {\n",
       "        vertical-align: top;\n",
       "    }\n",
       "\n",
       "    .dataframe thead th {\n",
       "        text-align: right;\n",
       "    }\n",
       "</style>\n",
       "<table border=\"1\" class=\"dataframe\">\n",
       "  <thead>\n",
       "    <tr style=\"text-align: right;\">\n",
       "      <th></th>\n",
       "      <th>department</th>\n",
       "      <th>employee_count</th>\n",
       "    </tr>\n",
       "  </thead>\n",
       "  <tbody>\n",
       "    <tr>\n",
       "      <th>0</th>\n",
       "      <td>Sales &amp; Marketing</td>\n",
       "      <td>5458</td>\n",
       "    </tr>\n",
       "    <tr>\n",
       "      <th>1</th>\n",
       "      <td>Operations</td>\n",
       "      <td>3524</td>\n",
       "    </tr>\n",
       "    <tr>\n",
       "      <th>2</th>\n",
       "      <td>Procurement</td>\n",
       "      <td>2240</td>\n",
       "    </tr>\n",
       "    <tr>\n",
       "      <th>3</th>\n",
       "      <td>Technology</td>\n",
       "      <td>2199</td>\n",
       "    </tr>\n",
       "    <tr>\n",
       "      <th>4</th>\n",
       "      <td>Analytics</td>\n",
       "      <td>1697</td>\n",
       "    </tr>\n",
       "    <tr>\n",
       "      <th>5</th>\n",
       "      <td>HR</td>\n",
       "      <td>833</td>\n",
       "    </tr>\n",
       "    <tr>\n",
       "      <th>6</th>\n",
       "      <td>Finance</td>\n",
       "      <td>802</td>\n",
       "    </tr>\n",
       "    <tr>\n",
       "      <th>7</th>\n",
       "      <td>R&amp;D</td>\n",
       "      <td>332</td>\n",
       "    </tr>\n",
       "    <tr>\n",
       "      <th>8</th>\n",
       "      <td>Legal</td>\n",
       "      <td>332</td>\n",
       "    </tr>\n",
       "  </tbody>\n",
       "</table>\n",
       "</div>"
      ],
      "text/plain": [
       "          department  employee_count\n",
       "0  Sales & Marketing            5458\n",
       "1         Operations            3524\n",
       "2        Procurement            2240\n",
       "3         Technology            2199\n",
       "4          Analytics            1697\n",
       "5                 HR             833\n",
       "6            Finance             802\n",
       "7                R&D             332\n",
       "8              Legal             332"
      ]
     },
     "execution_count": 69,
     "metadata": {},
     "output_type": "execute_result"
    }
   ],
   "source": [
    "employee_distribution"
   ]
  },
  {
   "cell_type": "markdown",
   "id": "74c12bb3-c108-4ff1-9d07-52de9f445ec4",
   "metadata": {},
   "source": [
    "#### Visualization"
   ]
  },
  {
   "cell_type": "code",
   "execution_count": 66,
   "id": "dcf80d66-835d-46ad-a51f-6a27122aa97d",
   "metadata": {},
   "outputs": [
    {
     "data": {
      "image/png": "[encoded data removed]",
      "text/plain": [
       "<Figure size 640x480 with 1 Axes>"
      ]
     },
     "metadata": {},
     "output_type": "display_data"
    }
   ],
   "source": [
    "employee_distribution.plot(kind='bar', x='department', y='employee_count', title='Employee Distribution by Department')\n",
    "plt.xlabel('Department')\n",
    "plt.ylabel('Number of Employees')\n",
    "plt.show()"
   ]
  },
  {
   "cell_type": "markdown",
   "id": "4a764341-4ece-46f4-a91b-b7501db90967",
   "metadata": {},
   "source": [
    "### 2. Average Age of Employees by Department"
   ]
  },
  {
   "cell_type": "markdown",
   "id": "587dab86-c876-4651-aa55-10bf64506d6e",
   "metadata": {},
   "source": [
    "#####  SQL query for average age of employees by department"
   ]
  },
  {
   "cell_type": "code",
   "execution_count": 77,
   "id": "6e44d3a5-0ab9-4749-a632-1c2fb8b9dfbb",
   "metadata": {},
   "outputs": [],
   "source": [
    "query = '''\n",
    "SELECT department, AVG(age) AS average_age\n",
    "FROM employee\n",
    "GROUP BY department\n",
    "ORDER BY average_age DESC;\n",
    "'''"
   ]
  },
  {
   "cell_type": "markdown",
   "id": "bff426e4-3e2d-46cf-ac09-a2749507dce6",
   "metadata": {},
   "source": [
    "##### Execute the query and load the result into a DataFrame"
   ]
  },
  {
   "cell_type": "code",
   "execution_count": 81,
   "id": "0ed14eba-9070-410f-af23-7362ad8298b9",
   "metadata": {},
   "outputs": [],
   "source": [
    "average_age_by_department = pd.read_sql(query, conn)"
   ]
  },
  {
   "cell_type": "markdown",
   "id": "2df06d6b-be06-40ba-9ea3-d0f194fdbc1c",
   "metadata": {},
   "source": [
    "###### Display the result"
   ]
  },
  {
   "cell_type": "code",
   "execution_count": 83,
   "id": "dca06f11-216b-4d3d-ba77-02a2febca644",
   "metadata": {},
   "outputs": [
    {
     "data": {
      "text/html": [
       "<div>\n",
       "<style scoped>\n",
       "    .dataframe tbody tr th:only-of-type {\n",
       "        vertical-align: middle;\n",
       "    }\n",
       "\n",
       "    .dataframe tbody tr th {\n",
       "        vertical-align: top;\n",
       "    }\n",
       "\n",
       "    .dataframe thead th {\n",
       "        text-align: right;\n",
       "    }\n",
       "</style>\n",
       "<table border=\"1\" class=\"dataframe\">\n",
       "  <thead>\n",
       "    <tr style=\"text-align: right;\">\n",
       "      <th></th>\n",
       "      <th>department</th>\n",
       "      <th>average_age</th>\n",
       "    </tr>\n",
       "  </thead>\n",
       "  <tbody>\n",
       "    <tr>\n",
       "      <th>0</th>\n",
       "      <td>Procurement</td>\n",
       "      <td>36.166964</td>\n",
       "    </tr>\n",
       "    <tr>\n",
       "      <th>1</th>\n",
       "      <td>Operations</td>\n",
       "      <td>36.154086</td>\n",
       "    </tr>\n",
       "    <tr>\n",
       "      <th>2</th>\n",
       "      <td>Technology</td>\n",
       "      <td>35.034106</td>\n",
       "    </tr>\n",
       "    <tr>\n",
       "      <th>3</th>\n",
       "      <td>Sales &amp; Marketing</td>\n",
       "      <td>34.627153</td>\n",
       "    </tr>\n",
       "    <tr>\n",
       "      <th>4</th>\n",
       "      <td>HR</td>\n",
       "      <td>34.248499</td>\n",
       "    </tr>\n",
       "    <tr>\n",
       "      <th>5</th>\n",
       "      <td>Legal</td>\n",
       "      <td>33.750000</td>\n",
       "    </tr>\n",
       "    <tr>\n",
       "      <th>6</th>\n",
       "      <td>R&amp;D</td>\n",
       "      <td>32.885542</td>\n",
       "    </tr>\n",
       "    <tr>\n",
       "      <th>7</th>\n",
       "      <td>Finance</td>\n",
       "      <td>32.602244</td>\n",
       "    </tr>\n",
       "    <tr>\n",
       "      <th>8</th>\n",
       "      <td>Analytics</td>\n",
       "      <td>32.405421</td>\n",
       "    </tr>\n",
       "  </tbody>\n",
       "</table>\n",
       "</div>"
      ],
      "text/plain": [
       "          department  average_age\n",
       "0        Procurement    36.166964\n",
       "1         Operations    36.154086\n",
       "2         Technology    35.034106\n",
       "3  Sales & Marketing    34.627153\n",
       "4                 HR    34.248499\n",
       "5              Legal    33.750000\n",
       "6                R&D    32.885542\n",
       "7            Finance    32.602244\n",
       "8          Analytics    32.405421"
      ]
     },
     "execution_count": 83,
     "metadata": {},
     "output_type": "execute_result"
    }
   ],
   "source": [
    "average_age_by_department"
   ]
  },
  {
   "cell_type": "markdown",
   "id": "41e75670-9370-45bf-85a4-30bd11c6616f",
   "metadata": {},
   "source": [
    "#####  Visualization"
   ]
  },
  {
   "cell_type": "code",
   "execution_count": 87,
   "id": "06d93761-eb06-475f-9ace-25b8e4bc408c",
   "metadata": {},
   "outputs": [
    {
     "data": {
      "image/png": "[encoded data removed]",
      "text/plain": [
       "<Figure size 640x480 with 1 Axes>"
      ]
     },
     "metadata": {},
     "output_type": "display_data"
    }
   ],
   "source": [
    "average_age_by_department.plot(kind='bar', x='department', y='average_age', title='Average Age of Employees by Department')\n",
    "plt.xlabel('Department')\n",
    "plt.ylabel('Average Age')\n",
    "plt.xticks(rotation=45)\n",
    "plt.show()"
   ]
  },
  {
   "cell_type": "markdown",
   "id": "ccae887b-501e-4783-ae3e-a279cf84316e",
   "metadata": {},
   "source": [
    "### 3. Gender Distribution Across Regions"
   ]
  },
  {
   "cell_type": "markdown",
   "id": "faf83910-54b0-45ed-ab3e-77f34f930e18",
   "metadata": {},
   "source": [
    "#####  SQL query for gender distribution across regions"
   ]
  },
  {
   "cell_type": "code",
   "execution_count": 93,
   "id": "fe421b2a-0b60-4c14-a158-8f8865e35a67",
   "metadata": {},
   "outputs": [],
   "source": [
    "query = '''\n",
    "SELECT region, gender, COUNT(employee_id) AS count\n",
    "FROM employee\n",
    "GROUP BY region, gender\n",
    "ORDER BY region, count DESC;\n",
    "'''"
   ]
  },
  {
   "cell_type": "markdown",
   "id": "c0fc80df-c3e9-4ba6-9065-1bde6a049049",
   "metadata": {},
   "source": [
    "##### Execute the query and load the result into a DataFrame"
   ]
  },
  {
   "cell_type": "code",
   "execution_count": 97,
   "id": "c0fa81a0-6c10-4f9d-8359-a029ffff2382",
   "metadata": {},
   "outputs": [],
   "source": [
    "gender_distribution = pd.read_sql(query, conn)"
   ]
  },
  {
   "cell_type": "markdown",
   "id": "c5bfb129-4ae7-4296-bf0f-2e996c262cad",
   "metadata": {},
   "source": [
    "##### Display the result"
   ]
  },
  {
   "cell_type": "code",
   "execution_count": 100,
   "id": "c84161b9-a87b-48a6-93b3-cae5dd1aef9a",
   "metadata": {},
   "outputs": [
    {
     "data": {
      "text/html": [
       "<div>\n",
       "<style scoped>\n",
       "    .dataframe tbody tr th:only-of-type {\n",
       "        vertical-align: middle;\n",
       "    }\n",
       "\n",
       "    .dataframe tbody tr th {\n",
       "        vertical-align: top;\n",
       "    }\n",
       "\n",
       "    .dataframe thead th {\n",
       "        text-align: right;\n",
       "    }\n",
       "</style>\n",
       "<table border=\"1\" class=\"dataframe\">\n",
       "  <thead>\n",
       "    <tr style=\"text-align: right;\">\n",
       "      <th></th>\n",
       "      <th>region</th>\n",
       "      <th>gender</th>\n",
       "      <th>count</th>\n",
       "    </tr>\n",
       "  </thead>\n",
       "  <tbody>\n",
       "    <tr>\n",
       "      <th>0</th>\n",
       "      <td>region_1</td>\n",
       "      <td>m</td>\n",
       "      <td>132</td>\n",
       "    </tr>\n",
       "    <tr>\n",
       "      <th>1</th>\n",
       "      <td>region_1</td>\n",
       "      <td>f</td>\n",
       "      <td>42</td>\n",
       "    </tr>\n",
       "    <tr>\n",
       "      <th>2</th>\n",
       "      <td>region_10</td>\n",
       "      <td>m</td>\n",
       "      <td>148</td>\n",
       "    </tr>\n",
       "    <tr>\n",
       "      <th>3</th>\n",
       "      <td>region_10</td>\n",
       "      <td>f</td>\n",
       "      <td>61</td>\n",
       "    </tr>\n",
       "    <tr>\n",
       "      <th>4</th>\n",
       "      <td>region_11</td>\n",
       "      <td>m</td>\n",
       "      <td>316</td>\n",
       "    </tr>\n",
       "    <tr>\n",
       "      <th>...</th>\n",
       "      <td>...</td>\n",
       "      <td>...</td>\n",
       "      <td>...</td>\n",
       "    </tr>\n",
       "    <tr>\n",
       "      <th>63</th>\n",
       "      <td>region_7</td>\n",
       "      <td>f</td>\n",
       "      <td>450</td>\n",
       "    </tr>\n",
       "    <tr>\n",
       "      <th>64</th>\n",
       "      <td>region_8</td>\n",
       "      <td>m</td>\n",
       "      <td>139</td>\n",
       "    </tr>\n",
       "    <tr>\n",
       "      <th>65</th>\n",
       "      <td>region_8</td>\n",
       "      <td>f</td>\n",
       "      <td>70</td>\n",
       "    </tr>\n",
       "    <tr>\n",
       "      <th>66</th>\n",
       "      <td>region_9</td>\n",
       "      <td>m</td>\n",
       "      <td>122</td>\n",
       "    </tr>\n",
       "    <tr>\n",
       "      <th>67</th>\n",
       "      <td>region_9</td>\n",
       "      <td>f</td>\n",
       "      <td>12</td>\n",
       "    </tr>\n",
       "  </tbody>\n",
       "</table>\n",
       "<p>68 rows × 3 columns</p>\n",
       "</div>"
      ],
      "text/plain": [
       "       region gender  count\n",
       "0    region_1      m    132\n",
       "1    region_1      f     42\n",
       "2   region_10      m    148\n",
       "3   region_10      f     61\n",
       "4   region_11      m    316\n",
       "..        ...    ...    ...\n",
       "63   region_7      f    450\n",
       "64   region_8      m    139\n",
       "65   region_8      f     70\n",
       "66   region_9      m    122\n",
       "67   region_9      f     12\n",
       "\n",
       "[68 rows x 3 columns]"
      ]
     },
     "execution_count": 100,
     "metadata": {},
     "output_type": "execute_result"
    }
   ],
   "source": [
    "gender_distribution "
   ]
  },
  {
   "cell_type": "markdown",
   "id": "a0515f5e-0968-457b-aadc-c4bee43b8fa4",
   "metadata": {},
   "source": [
    "##### Pivot the data for better visualization"
   ]
  },
  {
   "cell_type": "code",
   "execution_count": 103,
   "id": "bdbda310-d6e9-401b-bf85-c47b179b39e1",
   "metadata": {},
   "outputs": [],
   "source": [
    "gender_pivot = gender_distribution.pivot(index='region', columns='gender', values='count')"
   ]
  },
  {
   "cell_type": "markdown",
   "id": "8cfe34e0-f7bf-48a3-adb0-a6bd9fc0071c",
   "metadata": {},
   "source": [
    "#####  Visualization"
   ]
  },
  {
   "cell_type": "code",
   "execution_count": 106,
   "id": "9f7e7dc3-a787-46dd-8514-69fba5cbde77",
   "metadata": {},
   "outputs": [
    {
     "data": {
      "image/png": "[encoded data removed]",
      "text/plain": [
       "<Figure size 640x480 with 1 Axes>"
      ]
     },
     "metadata": {},
     "output_type": "display_data"
    }
   ],
   "source": [
    "gender_pivot.plot(kind='bar', stacked=True, title='Gender Distribution Across Regions')\n",
    "plt.xlabel('Region')\n",
    "plt.ylabel('Number of Employees')\n",
    "plt.xticks(rotation=45)\n",
    "plt.show()"
   ]
  },
  {
   "cell_type": "markdown",
   "id": "b8cc503b-211b-46c8-8bfe-ec49bd4ac3f2",
   "metadata": {},
   "source": [
    "### 4. Impact of Education Level on Average Training Scores"
   ]
  },
  {
   "cell_type": "markdown",
   "id": "7488f70e-6790-47b0-9f80-f5b60d82a6d1",
   "metadata": {},
   "source": [
    "##### SQL query for impact of education level on average training scores"
   ]
  },
  {
   "cell_type": "code",
   "execution_count": 110,
   "id": "2e68261a-d716-4ac1-8040-31c3e034242a",
   "metadata": {},
   "outputs": [],
   "source": [
    "query = '''\n",
    "SELECT education, AVG(avg_training_score) AS average_training_score\n",
    "FROM employee\n",
    "GROUP BY education\n",
    "ORDER BY average_training_score DESC;\n",
    "'''"
   ]
  },
  {
   "cell_type": "markdown",
   "id": "0ca22d21-4429-4b9e-ae74-b45bc01195cc",
   "metadata": {},
   "source": [
    "##### Execute the query and load the result into a DataFrame"
   ]
  },
  {
   "cell_type": "code",
   "execution_count": 113,
   "id": "3e8e3314-6db4-46d3-948e-ef2cf97f9538",
   "metadata": {},
   "outputs": [],
   "source": [
    "training_score_by_education = pd.read_sql(query, conn)"
   ]
  },
  {
   "cell_type": "markdown",
   "id": "4edc48d3-6510-4c15-b3ef-0e8aaa0dcdad",
   "metadata": {},
   "source": [
    "##### Display the result"
   ]
  },
  {
   "cell_type": "code",
   "execution_count": 116,
   "id": "1576147a-74e6-4d1c-84cf-770e6c73822d",
   "metadata": {},
   "outputs": [
    {
     "data": {
      "text/html": [
       "<div>\n",
       "<style scoped>\n",
       "    .dataframe tbody tr th:only-of-type {\n",
       "        vertical-align: middle;\n",
       "    }\n",
       "\n",
       "    .dataframe tbody tr th {\n",
       "        vertical-align: top;\n",
       "    }\n",
       "\n",
       "    .dataframe thead th {\n",
       "        text-align: right;\n",
       "    }\n",
       "</style>\n",
       "<table border=\"1\" class=\"dataframe\">\n",
       "  <thead>\n",
       "    <tr style=\"text-align: right;\">\n",
       "      <th></th>\n",
       "      <th>education</th>\n",
       "      <th>average_training_score</th>\n",
       "    </tr>\n",
       "  </thead>\n",
       "  <tbody>\n",
       "    <tr>\n",
       "      <th>0</th>\n",
       "      <td>Below Secondary</td>\n",
       "      <td>65.902098</td>\n",
       "    </tr>\n",
       "    <tr>\n",
       "      <th>1</th>\n",
       "      <td>Masters &amp; above</td>\n",
       "      <td>64.134270</td>\n",
       "    </tr>\n",
       "    <tr>\n",
       "      <th>2</th>\n",
       "      <td>Bachelors</td>\n",
       "      <td>63.033336</td>\n",
       "    </tr>\n",
       "    <tr>\n",
       "      <th>3</th>\n",
       "      <td>None</td>\n",
       "      <td>58.286641</td>\n",
       "    </tr>\n",
       "  </tbody>\n",
       "</table>\n",
       "</div>"
      ],
      "text/plain": [
       "         education  average_training_score\n",
       "0  Below Secondary               65.902098\n",
       "1  Masters & above               64.134270\n",
       "2        Bachelors               63.033336\n",
       "3             None               58.286641"
      ]
     },
     "execution_count": 116,
     "metadata": {},
     "output_type": "execute_result"
    }
   ],
   "source": [
    "training_score_by_education"
   ]
  },
  {
   "cell_type": "markdown",
   "id": "68a087e6-9b11-40de-ab10-4ceea1d338c4",
   "metadata": {},
   "source": [
    "##### Visualization:"
   ]
  },
  {
   "cell_type": "code",
   "execution_count": 119,
   "id": "fed6f69f-6905-4277-ab27-7461e0ce438b",
   "metadata": {},
   "outputs": [
    {
     "data": {
      "image/png": "[encoded data removed]",
      "text/plain": [
       "<Figure size 640x480 with 1 Axes>"
      ]
     },
     "metadata": {},
     "output_type": "display_data"
    }
   ],
   "source": [
    "training_score_by_education.plot(kind='bar', x='education', y='average_training_score', title='Average Training Score by Education Level')\n",
    "plt.xlabel('Education Level')\n",
    "plt.ylabel('Average Training Score')\n",
    "plt.xticks(rotation=45)\n",
    "plt.show()"
   ]
  },
  {
   "cell_type": "markdown",
   "id": "7f7fa725-3bef-4469-b621-6d3aeebe8eca",
   "metadata": {},
   "source": [
    "### 5. Analysis of KPI Achievement by Length of Service"
   ]
  },
  {
   "cell_type": "markdown",
   "id": "90ef3a06-b692-4643-a4e0-723ad4de8a94",
   "metadata": {},
   "source": [
    "##### SQL query for KPI achievement by length of service"
   ]
  },
  {
   "cell_type": "code",
   "execution_count": 123,
   "id": "5715507b-1dfc-4cd7-b83a-a6ea22832e00",
   "metadata": {},
   "outputs": [],
   "source": [
    "query = '''\n",
    "SELECT length_of_service, AVG(KPIs_met_more_than_80) AS kpi_achievement_rate\n",
    "FROM employee\n",
    "GROUP BY length_of_service\n",
    "ORDER BY length_of_service;\n",
    "'''"
   ]
  },
  {
   "cell_type": "markdown",
   "id": "11240b41-db02-48fe-9cfa-7c85d47f599c",
   "metadata": {},
   "source": [
    "##### Execute the query and load the result into a DataFrame"
   ]
  },
  {
   "cell_type": "code",
   "execution_count": 126,
   "id": "42cced35-284c-4502-8b3a-e23edf7b343b",
   "metadata": {},
   "outputs": [],
   "source": [
    "kpi_by_service_length = pd.read_sql(query, conn)"
   ]
  },
  {
   "cell_type": "markdown",
   "id": "efc37920-d734-4bf0-8b58-626e66120afc",
   "metadata": {},
   "source": [
    "##### Display the result"
   ]
  },
  {
   "cell_type": "code",
   "execution_count": 129,
   "id": "428cf608-35b7-4c53-bdfb-b249db036de2",
   "metadata": {},
   "outputs": [
    {
     "data": {
      "text/html": [
       "<div>\n",
       "<style scoped>\n",
       "    .dataframe tbody tr th:only-of-type {\n",
       "        vertical-align: middle;\n",
       "    }\n",
       "\n",
       "    .dataframe tbody tr th {\n",
       "        vertical-align: top;\n",
       "    }\n",
       "\n",
       "    .dataframe thead th {\n",
       "        text-align: right;\n",
       "    }\n",
       "</style>\n",
       "<table border=\"1\" class=\"dataframe\">\n",
       "  <thead>\n",
       "    <tr style=\"text-align: right;\">\n",
       "      <th></th>\n",
       "      <th>length_of_service</th>\n",
       "      <th>kpi_achievement_rate</th>\n",
       "    </tr>\n",
       "  </thead>\n",
       "  <tbody>\n",
       "    <tr>\n",
       "      <th>0</th>\n",
       "      <td>1</td>\n",
       "      <td>0.365821</td>\n",
       "    </tr>\n",
       "    <tr>\n",
       "      <th>1</th>\n",
       "      <td>2</td>\n",
       "      <td>0.385864</td>\n",
       "    </tr>\n",
       "    <tr>\n",
       "      <th>2</th>\n",
       "      <td>3</td>\n",
       "      <td>0.395731</td>\n",
       "    </tr>\n",
       "    <tr>\n",
       "      <th>3</th>\n",
       "      <td>4</td>\n",
       "      <td>0.374653</td>\n",
       "    </tr>\n",
       "    <tr>\n",
       "      <th>4</th>\n",
       "      <td>5</td>\n",
       "      <td>0.386625</td>\n",
       "    </tr>\n",
       "    <tr>\n",
       "      <th>5</th>\n",
       "      <td>6</td>\n",
       "      <td>0.389446</td>\n",
       "    </tr>\n",
       "    <tr>\n",
       "      <th>6</th>\n",
       "      <td>7</td>\n",
       "      <td>0.385787</td>\n",
       "    </tr>\n",
       "    <tr>\n",
       "      <th>7</th>\n",
       "      <td>8</td>\n",
       "      <td>0.289389</td>\n",
       "    </tr>\n",
       "    <tr>\n",
       "      <th>8</th>\n",
       "      <td>9</td>\n",
       "      <td>0.305868</td>\n",
       "    </tr>\n",
       "    <tr>\n",
       "      <th>9</th>\n",
       "      <td>10</td>\n",
       "      <td>0.298422</td>\n",
       "    </tr>\n",
       "    <tr>\n",
       "      <th>10</th>\n",
       "      <td>11</td>\n",
       "      <td>0.275093</td>\n",
       "    </tr>\n",
       "    <tr>\n",
       "      <th>11</th>\n",
       "      <td>12</td>\n",
       "      <td>0.292887</td>\n",
       "    </tr>\n",
       "    <tr>\n",
       "      <th>12</th>\n",
       "      <td>13</td>\n",
       "      <td>0.254808</td>\n",
       "    </tr>\n",
       "    <tr>\n",
       "      <th>13</th>\n",
       "      <td>14</td>\n",
       "      <td>0.234043</td>\n",
       "    </tr>\n",
       "    <tr>\n",
       "      <th>14</th>\n",
       "      <td>15</td>\n",
       "      <td>0.217143</td>\n",
       "    </tr>\n",
       "    <tr>\n",
       "      <th>15</th>\n",
       "      <td>16</td>\n",
       "      <td>0.261905</td>\n",
       "    </tr>\n",
       "    <tr>\n",
       "      <th>16</th>\n",
       "      <td>17</td>\n",
       "      <td>0.253425</td>\n",
       "    </tr>\n",
       "    <tr>\n",
       "      <th>17</th>\n",
       "      <td>18</td>\n",
       "      <td>0.284615</td>\n",
       "    </tr>\n",
       "    <tr>\n",
       "      <th>18</th>\n",
       "      <td>19</td>\n",
       "      <td>0.250000</td>\n",
       "    </tr>\n",
       "    <tr>\n",
       "      <th>19</th>\n",
       "      <td>20</td>\n",
       "      <td>0.372093</td>\n",
       "    </tr>\n",
       "    <tr>\n",
       "      <th>20</th>\n",
       "      <td>21</td>\n",
       "      <td>0.130435</td>\n",
       "    </tr>\n",
       "    <tr>\n",
       "      <th>21</th>\n",
       "      <td>22</td>\n",
       "      <td>0.176471</td>\n",
       "    </tr>\n",
       "    <tr>\n",
       "      <th>22</th>\n",
       "      <td>23</td>\n",
       "      <td>0.227273</td>\n",
       "    </tr>\n",
       "    <tr>\n",
       "      <th>23</th>\n",
       "      <td>24</td>\n",
       "      <td>0.285714</td>\n",
       "    </tr>\n",
       "    <tr>\n",
       "      <th>24</th>\n",
       "      <td>25</td>\n",
       "      <td>0.076923</td>\n",
       "    </tr>\n",
       "    <tr>\n",
       "      <th>25</th>\n",
       "      <td>26</td>\n",
       "      <td>0.400000</td>\n",
       "    </tr>\n",
       "    <tr>\n",
       "      <th>26</th>\n",
       "      <td>27</td>\n",
       "      <td>0.000000</td>\n",
       "    </tr>\n",
       "    <tr>\n",
       "      <th>27</th>\n",
       "      <td>28</td>\n",
       "      <td>0.111111</td>\n",
       "    </tr>\n",
       "    <tr>\n",
       "      <th>28</th>\n",
       "      <td>29</td>\n",
       "      <td>0.222222</td>\n",
       "    </tr>\n",
       "    <tr>\n",
       "      <th>29</th>\n",
       "      <td>30</td>\n",
       "      <td>0.600000</td>\n",
       "    </tr>\n",
       "    <tr>\n",
       "      <th>30</th>\n",
       "      <td>31</td>\n",
       "      <td>0.333333</td>\n",
       "    </tr>\n",
       "    <tr>\n",
       "      <th>31</th>\n",
       "      <td>32</td>\n",
       "      <td>0.000000</td>\n",
       "    </tr>\n",
       "    <tr>\n",
       "      <th>32</th>\n",
       "      <td>33</td>\n",
       "      <td>0.000000</td>\n",
       "    </tr>\n",
       "    <tr>\n",
       "      <th>33</th>\n",
       "      <td>34</td>\n",
       "      <td>0.000000</td>\n",
       "    </tr>\n",
       "  </tbody>\n",
       "</table>\n",
       "</div>"
      ],
      "text/plain": [
       "    length_of_service  kpi_achievement_rate\n",
       "0                   1              0.365821\n",
       "1                   2              0.385864\n",
       "2                   3              0.395731\n",
       "3                   4              0.374653\n",
       "4                   5              0.386625\n",
       "5                   6              0.389446\n",
       "6                   7              0.385787\n",
       "7                   8              0.289389\n",
       "8                   9              0.305868\n",
       "9                  10              0.298422\n",
       "10                 11              0.275093\n",
       "11                 12              0.292887\n",
       "12                 13              0.254808\n",
       "13                 14              0.234043\n",
       "14                 15              0.217143\n",
       "15                 16              0.261905\n",
       "16                 17              0.253425\n",
       "17                 18              0.284615\n",
       "18                 19              0.250000\n",
       "19                 20              0.372093\n",
       "20                 21              0.130435\n",
       "21                 22              0.176471\n",
       "22                 23              0.227273\n",
       "23                 24              0.285714\n",
       "24                 25              0.076923\n",
       "25                 26              0.400000\n",
       "26                 27              0.000000\n",
       "27                 28              0.111111\n",
       "28                 29              0.222222\n",
       "29                 30              0.600000\n",
       "30                 31              0.333333\n",
       "31                 32              0.000000\n",
       "32                 33              0.000000\n",
       "33                 34              0.000000"
      ]
     },
     "execution_count": 129,
     "metadata": {},
     "output_type": "execute_result"
    }
   ],
   "source": [
    "kpi_by_service_length"
   ]
  },
  {
   "cell_type": "markdown",
   "id": "f2589143-8e01-4b41-88ce-77568084f3eb",
   "metadata": {},
   "source": [
    "##### Visualization"
   ]
  },
  {
   "cell_type": "code",
   "execution_count": 132,
   "id": "adcb2d01-3d43-4592-9bb9-461771572dc1",
   "metadata": {},
   "outputs": [
    {
     "data": {
      "image/png": "[encoded data removed]",
      "text/plain": [
       "<Figure size 640x480 with 1 Axes>"
      ]
     },
     "metadata": {},
     "output_type": "display_data"
    }
   ],
   "source": [
    "kpi_by_service_length.plot(kind='line', x='length_of_service', y='kpi_achievement_rate', title='KPI Achievement Rate by Length of Service')\n",
    "plt.xlabel('Length of Service (Years)')\n",
    "plt.ylabel('KPI Achievement Rate')\n",
    "plt.grid(True)\n",
    "plt.show()"
   ]
  },
  {
   "cell_type": "markdown",
   "id": "55f45604-d169-4ef9-b3ea-8b269776087d",
   "metadata": {},
   "source": [
    "### 6. Department-wise Analysis of Employees with Awards"
   ]
  },
  {
   "cell_type": "markdown",
   "id": "5d5a2ac8-6aa3-47c2-8990-41d61cc6e9a3",
   "metadata": {},
   "source": [
    "#####  SQL query for department-wise analysis of employees with awards"
   ]
  },
  {
   "cell_type": "code",
   "execution_count": 195,
   "id": "360d7dd6-1ff2-41cf-869c-052878ead575",
   "metadata": {},
   "outputs": [],
   "source": [
    "query = '''\n",
    "SELECT department, SUM(awards_won) AS total_awards, COUNT(employee_id) AS total_employees,\n",
    "       (SUM(awards_won) * 100.0 / COUNT(employee_id)) AS award_percentage\n",
    "FROM employee\n",
    "GROUP BY department\n",
    "ORDER BY award_percentage DESC;\n",
    "'''"
   ]
  },
  {
   "cell_type": "markdown",
   "id": "89d7b813-591d-4434-9c28-55aca86451da",
   "metadata": {},
   "source": [
    "#####  Execute the query and load the result into a DataFrame"
   ]
  },
  {
   "cell_type": "code",
   "execution_count": 202,
   "id": "88e3f691-e69e-43f1-bed2-716ce75bafff",
   "metadata": {},
   "outputs": [],
   "source": [
    "awards_by_department = pd.read_sql(query, conn)"
   ]
  },
  {
   "cell_type": "markdown",
   "id": "ba35c718-dd40-443a-8222-a0f3458b6e8e",
   "metadata": {},
   "source": [
    "#####  Display the result"
   ]
  },
  {
   "cell_type": "code",
   "execution_count": 204,
   "id": "71722221-8b0a-429b-8f69-64d473c44311",
   "metadata": {},
   "outputs": [
    {
     "data": {
      "text/html": [
       "<div>\n",
       "<style scoped>\n",
       "    .dataframe tbody tr th:only-of-type {\n",
       "        vertical-align: middle;\n",
       "    }\n",
       "\n",
       "    .dataframe tbody tr th {\n",
       "        vertical-align: top;\n",
       "    }\n",
       "\n",
       "    .dataframe thead th {\n",
       "        text-align: right;\n",
       "    }\n",
       "</style>\n",
       "<table border=\"1\" class=\"dataframe\">\n",
       "  <thead>\n",
       "    <tr style=\"text-align: right;\">\n",
       "      <th></th>\n",
       "      <th>department</th>\n",
       "      <th>total_awards</th>\n",
       "      <th>total_employees</th>\n",
       "      <th>award_percentage</th>\n",
       "    </tr>\n",
       "  </thead>\n",
       "  <tbody>\n",
       "    <tr>\n",
       "      <th>0</th>\n",
       "      <td>Technology</td>\n",
       "      <td>58</td>\n",
       "      <td>2199</td>\n",
       "      <td>2.637563</td>\n",
       "    </tr>\n",
       "    <tr>\n",
       "      <th>1</th>\n",
       "      <td>Procurement</td>\n",
       "      <td>57</td>\n",
       "      <td>2240</td>\n",
       "      <td>2.544643</td>\n",
       "    </tr>\n",
       "    <tr>\n",
       "      <th>2</th>\n",
       "      <td>Analytics</td>\n",
       "      <td>43</td>\n",
       "      <td>1697</td>\n",
       "      <td>2.533883</td>\n",
       "    </tr>\n",
       "    <tr>\n",
       "      <th>3</th>\n",
       "      <td>Operations</td>\n",
       "      <td>89</td>\n",
       "      <td>3524</td>\n",
       "      <td>2.525539</td>\n",
       "    </tr>\n",
       "    <tr>\n",
       "      <th>4</th>\n",
       "      <td>Sales &amp; Marketing</td>\n",
       "      <td>120</td>\n",
       "      <td>5458</td>\n",
       "      <td>2.198608</td>\n",
       "    </tr>\n",
       "    <tr>\n",
       "      <th>5</th>\n",
       "      <td>Finance</td>\n",
       "      <td>15</td>\n",
       "      <td>802</td>\n",
       "      <td>1.870324</td>\n",
       "    </tr>\n",
       "    <tr>\n",
       "      <th>6</th>\n",
       "      <td>Legal</td>\n",
       "      <td>6</td>\n",
       "      <td>332</td>\n",
       "      <td>1.807229</td>\n",
       "    </tr>\n",
       "    <tr>\n",
       "      <th>7</th>\n",
       "      <td>HR</td>\n",
       "      <td>14</td>\n",
       "      <td>833</td>\n",
       "      <td>1.680672</td>\n",
       "    </tr>\n",
       "    <tr>\n",
       "      <th>8</th>\n",
       "      <td>R&amp;D</td>\n",
       "      <td>5</td>\n",
       "      <td>332</td>\n",
       "      <td>1.506024</td>\n",
       "    </tr>\n",
       "  </tbody>\n",
       "</table>\n",
       "</div>"
      ],
      "text/plain": [
       "          department  total_awards  total_employees  award_percentage\n",
       "0         Technology            58             2199          2.637563\n",
       "1        Procurement            57             2240          2.544643\n",
       "2          Analytics            43             1697          2.533883\n",
       "3         Operations            89             3524          2.525539\n",
       "4  Sales & Marketing           120             5458          2.198608\n",
       "5            Finance            15              802          1.870324\n",
       "6              Legal             6              332          1.807229\n",
       "7                 HR            14              833          1.680672\n",
       "8                R&D             5              332          1.506024"
      ]
     },
     "execution_count": 204,
     "metadata": {},
     "output_type": "execute_result"
    }
   ],
   "source": [
    "awards_by_department"
   ]
  },
  {
   "cell_type": "markdown",
   "id": "c208efe2-0fa9-46b5-ba89-7ceecc4f5113",
   "metadata": {},
   "source": [
    "##### Visualization:"
   ]
  },
  {
   "cell_type": "code",
   "execution_count": 207,
   "id": "bcffdafa-d5b9-4987-a0ed-79c78c1f36f4",
   "metadata": {},
   "outputs": [
    {
     "data": {
      "image/png": "[encoded data removed]",
      "text/plain": [
       "<Figure size 640x480 with 1 Axes>"
      ]
     },
     "metadata": {},
     "output_type": "display_data"
    }
   ],
   "source": [
    "awards_by_department.plot(kind='bar', x='department', y='award_percentage', title='Percentage of Employees with Awards by Department')\n",
    "plt.xlabel('Department')\n",
    "plt.ylabel('Award Percentage')\n",
    "plt.xticks(rotation=45)\n",
    "plt.show()"
   ]
  },
  {
   "cell_type": "markdown",
   "id": "bbb3080d-2643-4a6a-9ce9-6c5baac8f2b6",
   "metadata": {},
   "source": [
    "### 7. Impact of Number of Trainings on KPI Achievement"
   ]
  },
  {
   "cell_type": "markdown",
   "id": "50f5acf6-7799-447c-ace3-732a66fadb96",
   "metadata": {},
   "source": [
    "##### SQL query for number of trainings vs. KPI achievement"
   ]
  },
  {
   "cell_type": "code",
   "execution_count": 211,
   "id": "804c3d38-dfc4-4b68-9d19-3b9f1638339f",
   "metadata": {},
   "outputs": [],
   "source": [
    "query = '''\n",
    "SELECT no_of_trainings, AVG(KPIs_met_more_than_80) AS average_kpi_achievement\n",
    "FROM employee\n",
    "GROUP BY no_of_trainings\n",
    "ORDER BY no_of_trainings;\n",
    "'''"
   ]
  },
  {
   "cell_type": "markdown",
   "id": "cdfe750f-bb91-47a7-a6b5-aff64df6464e",
   "metadata": {},
   "source": [
    "##### Execute the query and load the result into a DataFrame"
   ]
  },
  {
   "cell_type": "code",
   "execution_count": 214,
   "id": "a3bc018b-dd5e-4e11-8099-57f7cbae919c",
   "metadata": {},
   "outputs": [],
   "source": [
    "trainings_vs_kpi = pd.read_sql(query, conn)"
   ]
  },
  {
   "cell_type": "markdown",
   "id": "f766c37d-8b7b-4d67-9ca8-9500bc61699c",
   "metadata": {},
   "source": [
    "##### Display the result"
   ]
  },
  {
   "cell_type": "code",
   "execution_count": 217,
   "id": "50533830-8652-4085-a84f-36324ddeb798",
   "metadata": {},
   "outputs": [
    {
     "data": {
      "text/html": [
       "<div>\n",
       "<style scoped>\n",
       "    .dataframe tbody tr th:only-of-type {\n",
       "        vertical-align: middle;\n",
       "    }\n",
       "\n",
       "    .dataframe tbody tr th {\n",
       "        vertical-align: top;\n",
       "    }\n",
       "\n",
       "    .dataframe thead th {\n",
       "        text-align: right;\n",
       "    }\n",
       "</style>\n",
       "<table border=\"1\" class=\"dataframe\">\n",
       "  <thead>\n",
       "    <tr style=\"text-align: right;\">\n",
       "      <th></th>\n",
       "      <th>no_of_trainings</th>\n",
       "      <th>average_kpi_achievement</th>\n",
       "    </tr>\n",
       "  </thead>\n",
       "  <tbody>\n",
       "    <tr>\n",
       "      <th>0</th>\n",
       "      <td>1</td>\n",
       "      <td>0.367684</td>\n",
       "    </tr>\n",
       "    <tr>\n",
       "      <th>1</th>\n",
       "      <td>2</td>\n",
       "      <td>0.333333</td>\n",
       "    </tr>\n",
       "    <tr>\n",
       "      <th>2</th>\n",
       "      <td>3</td>\n",
       "      <td>0.306122</td>\n",
       "    </tr>\n",
       "    <tr>\n",
       "      <th>3</th>\n",
       "      <td>4</td>\n",
       "      <td>0.204380</td>\n",
       "    </tr>\n",
       "    <tr>\n",
       "      <th>4</th>\n",
       "      <td>5</td>\n",
       "      <td>0.307692</td>\n",
       "    </tr>\n",
       "    <tr>\n",
       "      <th>5</th>\n",
       "      <td>6</td>\n",
       "      <td>0.000000</td>\n",
       "    </tr>\n",
       "    <tr>\n",
       "      <th>6</th>\n",
       "      <td>7</td>\n",
       "      <td>0.166667</td>\n",
       "    </tr>\n",
       "    <tr>\n",
       "      <th>7</th>\n",
       "      <td>8</td>\n",
       "      <td>0.500000</td>\n",
       "    </tr>\n",
       "    <tr>\n",
       "      <th>8</th>\n",
       "      <td>9</td>\n",
       "      <td>0.500000</td>\n",
       "    </tr>\n",
       "  </tbody>\n",
       "</table>\n",
       "</div>"
      ],
      "text/plain": [
       "   no_of_trainings  average_kpi_achievement\n",
       "0                1                 0.367684\n",
       "1                2                 0.333333\n",
       "2                3                 0.306122\n",
       "3                4                 0.204380\n",
       "4                5                 0.307692\n",
       "5                6                 0.000000\n",
       "6                7                 0.166667\n",
       "7                8                 0.500000\n",
       "8                9                 0.500000"
      ]
     },
     "execution_count": 217,
     "metadata": {},
     "output_type": "execute_result"
    }
   ],
   "source": [
    "trainings_vs_kpi"
   ]
  },
  {
   "cell_type": "markdown",
   "id": "9f3c7e54-bfd6-4df4-a925-ab219ef249f3",
   "metadata": {},
   "source": [
    "##### Visualization"
   ]
  },
  {
   "cell_type": "code",
   "execution_count": 221,
   "id": "0c7834a2-addd-4e12-b795-e614851fea67",
   "metadata": {},
   "outputs": [
    {
     "data": {
      "image/png": "[encoded data removed]",
      "text/plain": [
       "<Figure size 640x480 with 1 Axes>"
      ]
     },
     "metadata": {},
     "output_type": "display_data"
    }
   ],
   "source": [
    "trainings_vs_kpi.plot(kind='line', x='no_of_trainings', y='average_kpi_achievement', title='Number of Trainings vs. KPI Achievement')\n",
    "plt.xlabel('Number of Trainings')\n",
    "plt.ylabel('Average KPI Achievement')\n",
    "plt.grid(True)\n",
    "plt.show()"
   ]
  },
  {
   "cell_type": "markdown",
   "id": "3ba923e9-2316-46a5-b511-8a89be6474a5",
   "metadata": {},
   "source": [
    "### 8. KPI Achievement Rate by Region"
   ]
  },
  {
   "cell_type": "markdown",
   "id": "8ef22297-3c58-474b-b229-393040fe1327",
   "metadata": {},
   "source": [
    "#####  SQL query for KPI achievement rate by region"
   ]
  },
  {
   "cell_type": "code",
   "execution_count": 225,
   "id": "5525a020-df2a-421c-8dff-bbe369e01c2d",
   "metadata": {},
   "outputs": [],
   "source": [
    "query = '''\n",
    "SELECT region, AVG(KPIs_met_more_than_80) AS kpi_achievement_rate\n",
    "FROM employee\n",
    "GROUP BY region\n",
    "ORDER BY kpi_achievement_rate DESC;\n",
    "'''"
   ]
  },
  {
   "cell_type": "markdown",
   "id": "f942da1e-a8db-431c-88a8-441060a5c9ec",
   "metadata": {},
   "source": [
    "#####  Execute the query and load the result into a DataFrame"
   ]
  },
  {
   "cell_type": "code",
   "execution_count": 228,
   "id": "a4c96f5d-532c-4451-b7d5-10b5c182f541",
   "metadata": {},
   "outputs": [],
   "source": [
    "kpi_by_region = pd.read_sql(query, conn)"
   ]
  },
  {
   "cell_type": "markdown",
   "id": "99ac9d7a-8077-441e-a8be-417c8e080631",
   "metadata": {},
   "source": [
    "#####  Display the result"
   ]
  },
  {
   "cell_type": "code",
   "execution_count": 231,
   "id": "d2d28a6a-8797-4eec-ac66-f22f789d376d",
   "metadata": {},
   "outputs": [
    {
     "data": {
      "text/html": [
       "<div>\n",
       "<style scoped>\n",
       "    .dataframe tbody tr th:only-of-type {\n",
       "        vertical-align: middle;\n",
       "    }\n",
       "\n",
       "    .dataframe tbody tr th {\n",
       "        vertical-align: top;\n",
       "    }\n",
       "\n",
       "    .dataframe thead th {\n",
       "        text-align: right;\n",
       "    }\n",
       "</style>\n",
       "<table border=\"1\" class=\"dataframe\">\n",
       "  <thead>\n",
       "    <tr style=\"text-align: right;\">\n",
       "      <th></th>\n",
       "      <th>region</th>\n",
       "      <th>kpi_achievement_rate</th>\n",
       "    </tr>\n",
       "  </thead>\n",
       "  <tbody>\n",
       "    <tr>\n",
       "      <th>0</th>\n",
       "      <td>region_4</td>\n",
       "      <td>0.476357</td>\n",
       "    </tr>\n",
       "    <tr>\n",
       "      <th>1</th>\n",
       "      <td>region_3</td>\n",
       "      <td>0.445455</td>\n",
       "    </tr>\n",
       "    <tr>\n",
       "      <th>2</th>\n",
       "      <td>region_22</td>\n",
       "      <td>0.411558</td>\n",
       "    </tr>\n",
       "    <tr>\n",
       "      <th>3</th>\n",
       "      <td>region_17</td>\n",
       "      <td>0.399254</td>\n",
       "    </tr>\n",
       "    <tr>\n",
       "      <th>4</th>\n",
       "      <td>region_28</td>\n",
       "      <td>0.397674</td>\n",
       "    </tr>\n",
       "    <tr>\n",
       "      <th>5</th>\n",
       "      <td>region_23</td>\n",
       "      <td>0.385638</td>\n",
       "    </tr>\n",
       "    <tr>\n",
       "      <th>6</th>\n",
       "      <td>region_7</td>\n",
       "      <td>0.380376</td>\n",
       "    </tr>\n",
       "    <tr>\n",
       "      <th>7</th>\n",
       "      <td>region_8</td>\n",
       "      <td>0.377990</td>\n",
       "    </tr>\n",
       "    <tr>\n",
       "      <th>8</th>\n",
       "      <td>region_29</td>\n",
       "      <td>0.366883</td>\n",
       "    </tr>\n",
       "    <tr>\n",
       "      <th>9</th>\n",
       "      <td>region_2</td>\n",
       "      <td>0.360898</td>\n",
       "    </tr>\n",
       "    <tr>\n",
       "      <th>10</th>\n",
       "      <td>region_6</td>\n",
       "      <td>0.359091</td>\n",
       "    </tr>\n",
       "    <tr>\n",
       "      <th>11</th>\n",
       "      <td>region_12</td>\n",
       "      <td>0.358974</td>\n",
       "    </tr>\n",
       "    <tr>\n",
       "      <th>12</th>\n",
       "      <td>region_27</td>\n",
       "      <td>0.358527</td>\n",
       "    </tr>\n",
       "    <tr>\n",
       "      <th>13</th>\n",
       "      <td>region_18</td>\n",
       "      <td>0.357143</td>\n",
       "    </tr>\n",
       "    <tr>\n",
       "      <th>14</th>\n",
       "      <td>region_11</td>\n",
       "      <td>0.350000</td>\n",
       "    </tr>\n",
       "    <tr>\n",
       "      <th>15</th>\n",
       "      <td>region_34</td>\n",
       "      <td>0.349593</td>\n",
       "    </tr>\n",
       "    <tr>\n",
       "      <th>16</th>\n",
       "      <td>region_25</td>\n",
       "      <td>0.346774</td>\n",
       "    </tr>\n",
       "    <tr>\n",
       "      <th>17</th>\n",
       "      <td>region_13</td>\n",
       "      <td>0.345349</td>\n",
       "    </tr>\n",
       "    <tr>\n",
       "      <th>18</th>\n",
       "      <td>region_15</td>\n",
       "      <td>0.340451</td>\n",
       "    </tr>\n",
       "    <tr>\n",
       "      <th>19</th>\n",
       "      <td>region_10</td>\n",
       "      <td>0.339713</td>\n",
       "    </tr>\n",
       "    <tr>\n",
       "      <th>20</th>\n",
       "      <td>region_14</td>\n",
       "      <td>0.339623</td>\n",
       "    </tr>\n",
       "    <tr>\n",
       "      <th>21</th>\n",
       "      <td>region_26</td>\n",
       "      <td>0.334225</td>\n",
       "    </tr>\n",
       "    <tr>\n",
       "      <th>22</th>\n",
       "      <td>region_19</td>\n",
       "      <td>0.330159</td>\n",
       "    </tr>\n",
       "    <tr>\n",
       "      <th>23</th>\n",
       "      <td>region_30</td>\n",
       "      <td>0.325359</td>\n",
       "    </tr>\n",
       "    <tr>\n",
       "      <th>24</th>\n",
       "      <td>region_21</td>\n",
       "      <td>0.317829</td>\n",
       "    </tr>\n",
       "    <tr>\n",
       "      <th>25</th>\n",
       "      <td>region_1</td>\n",
       "      <td>0.316092</td>\n",
       "    </tr>\n",
       "    <tr>\n",
       "      <th>26</th>\n",
       "      <td>region_31</td>\n",
       "      <td>0.314241</td>\n",
       "    </tr>\n",
       "    <tr>\n",
       "      <th>27</th>\n",
       "      <td>region_20</td>\n",
       "      <td>0.314050</td>\n",
       "    </tr>\n",
       "    <tr>\n",
       "      <th>28</th>\n",
       "      <td>region_16</td>\n",
       "      <td>0.305310</td>\n",
       "    </tr>\n",
       "    <tr>\n",
       "      <th>29</th>\n",
       "      <td>region_33</td>\n",
       "      <td>0.263736</td>\n",
       "    </tr>\n",
       "    <tr>\n",
       "      <th>30</th>\n",
       "      <td>region_32</td>\n",
       "      <td>0.257862</td>\n",
       "    </tr>\n",
       "    <tr>\n",
       "      <th>31</th>\n",
       "      <td>region_5</td>\n",
       "      <td>0.253968</td>\n",
       "    </tr>\n",
       "    <tr>\n",
       "      <th>32</th>\n",
       "      <td>region_24</td>\n",
       "      <td>0.224242</td>\n",
       "    </tr>\n",
       "    <tr>\n",
       "      <th>33</th>\n",
       "      <td>region_9</td>\n",
       "      <td>0.201493</td>\n",
       "    </tr>\n",
       "  </tbody>\n",
       "</table>\n",
       "</div>"
      ],
      "text/plain": [
       "       region  kpi_achievement_rate\n",
       "0    region_4              0.476357\n",
       "1    region_3              0.445455\n",
       "2   region_22              0.411558\n",
       "3   region_17              0.399254\n",
       "4   region_28              0.397674\n",
       "5   region_23              0.385638\n",
       "6    region_7              0.380376\n",
       "7    region_8              0.377990\n",
       "8   region_29              0.366883\n",
       "9    region_2              0.360898\n",
       "10   region_6              0.359091\n",
       "11  region_12              0.358974\n",
       "12  region_27              0.358527\n",
       "13  region_18              0.357143\n",
       "14  region_11              0.350000\n",
       "15  region_34              0.349593\n",
       "16  region_25              0.346774\n",
       "17  region_13              0.345349\n",
       "18  region_15              0.340451\n",
       "19  region_10              0.339713\n",
       "20  region_14              0.339623\n",
       "21  region_26              0.334225\n",
       "22  region_19              0.330159\n",
       "23  region_30              0.325359\n",
       "24  region_21              0.317829\n",
       "25   region_1              0.316092\n",
       "26  region_31              0.314241\n",
       "27  region_20              0.314050\n",
       "28  region_16              0.305310\n",
       "29  region_33              0.263736\n",
       "30  region_32              0.257862\n",
       "31   region_5              0.253968\n",
       "32  region_24              0.224242\n",
       "33   region_9              0.201493"
      ]
     },
     "execution_count": 231,
     "metadata": {},
     "output_type": "execute_result"
    }
   ],
   "source": [
    "kpi_by_region"
   ]
  },
  {
   "cell_type": "markdown",
   "id": "75a7dff5-9673-49b0-91ba-5e3240eb0bfc",
   "metadata": {},
   "source": [
    "#####  Visualization"
   ]
  },
  {
   "cell_type": "code",
   "execution_count": 240,
   "id": "5f9789ea-6e34-434d-87cd-a7bc3da0cee0",
   "metadata": {},
   "outputs": [
    {
     "data": {
      "image/png": "[encoded data removed]",
      "text/plain": [
       "<Figure size 640x480 with 1 Axes>"
      ]
     },
     "metadata": {},
     "output_type": "display_data"
    }
   ],
   "source": [
    "kpi_by_region.plot(kind='bar', x='region', y='kpi_achievement_rate', title='KPI Achievement Rate by Region')\n",
    "plt.xlabel('Region')\n",
    "plt.ylabel('KPI Achievement Rate')\n",
    "plt.xticks(rotation=45)\n",
    "plt.show()"
   ]
  },
  {
   "cell_type": "markdown",
   "id": "9ecee1a2-1360-4bde-823f-18002457d51c",
   "metadata": {},
   "source": [
    "### 9. Correlation Between Awards Won and Length of Service"
   ]
  },
  {
   "cell_type": "markdown",
   "id": "f5dfac03-0a42-4624-8d66-dc927a80b286",
   "metadata": {},
   "source": [
    "##### SQL query for awards won and length of service"
   ]
  },
  {
   "cell_type": "code",
   "execution_count": 238,
   "id": "b224da8b-7e26-4343-9678-534102ad205a",
   "metadata": {},
   "outputs": [],
   "source": [
    "query = '''\n",
    "SELECT length_of_service, SUM(awards_won) AS total_awards\n",
    "FROM employee\n",
    "GROUP BY length_of_service\n",
    "ORDER BY length_of_service;\n",
    "'''"
   ]
  },
  {
   "cell_type": "markdown",
   "id": "d0f03529-df9c-4fc5-9201-549f0186c5a8",
   "metadata": {},
   "source": [
    "#### Execute the query and load the result into a DataFrame"
   ]
  },
  {
   "cell_type": "code",
   "execution_count": 243,
   "id": "f00ada16-fc39-475a-b400-d8cdd917c6ff",
   "metadata": {},
   "outputs": [],
   "source": [
    "awards_vs_service_length = pd.read_sql(query, conn)"
   ]
  },
  {
   "cell_type": "markdown",
   "id": "f5a929d5-375d-4553-a8d8-d241be662e24",
   "metadata": {},
   "source": [
    "##### Display the result"
   ]
  },
  {
   "cell_type": "code",
   "execution_count": 246,
   "id": "fbc06ae9-7660-46f4-af06-4add34a20f7b",
   "metadata": {},
   "outputs": [
    {
     "data": {
      "text/html": [
       "<div>\n",
       "<style scoped>\n",
       "    .dataframe tbody tr th:only-of-type {\n",
       "        vertical-align: middle;\n",
       "    }\n",
       "\n",
       "    .dataframe tbody tr th {\n",
       "        vertical-align: top;\n",
       "    }\n",
       "\n",
       "    .dataframe thead th {\n",
       "        text-align: right;\n",
       "    }\n",
       "</style>\n",
       "<table border=\"1\" class=\"dataframe\">\n",
       "  <thead>\n",
       "    <tr style=\"text-align: right;\">\n",
       "      <th></th>\n",
       "      <th>length_of_service</th>\n",
       "      <th>total_awards</th>\n",
       "    </tr>\n",
       "  </thead>\n",
       "  <tbody>\n",
       "    <tr>\n",
       "      <th>0</th>\n",
       "      <td>1</td>\n",
       "      <td>36</td>\n",
       "    </tr>\n",
       "    <tr>\n",
       "      <th>1</th>\n",
       "      <td>2</td>\n",
       "      <td>65</td>\n",
       "    </tr>\n",
       "    <tr>\n",
       "      <th>2</th>\n",
       "      <td>3</td>\n",
       "      <td>65</td>\n",
       "    </tr>\n",
       "    <tr>\n",
       "      <th>3</th>\n",
       "      <td>4</td>\n",
       "      <td>57</td>\n",
       "    </tr>\n",
       "    <tr>\n",
       "      <th>4</th>\n",
       "      <td>5</td>\n",
       "      <td>49</td>\n",
       "    </tr>\n",
       "    <tr>\n",
       "      <th>5</th>\n",
       "      <td>6</td>\n",
       "      <td>38</td>\n",
       "    </tr>\n",
       "    <tr>\n",
       "      <th>6</th>\n",
       "      <td>7</td>\n",
       "      <td>48</td>\n",
       "    </tr>\n",
       "    <tr>\n",
       "      <th>7</th>\n",
       "      <td>8</td>\n",
       "      <td>11</td>\n",
       "    </tr>\n",
       "    <tr>\n",
       "      <th>8</th>\n",
       "      <td>9</td>\n",
       "      <td>13</td>\n",
       "    </tr>\n",
       "    <tr>\n",
       "      <th>9</th>\n",
       "      <td>10</td>\n",
       "      <td>7</td>\n",
       "    </tr>\n",
       "    <tr>\n",
       "      <th>10</th>\n",
       "      <td>11</td>\n",
       "      <td>3</td>\n",
       "    </tr>\n",
       "    <tr>\n",
       "      <th>11</th>\n",
       "      <td>12</td>\n",
       "      <td>4</td>\n",
       "    </tr>\n",
       "    <tr>\n",
       "      <th>12</th>\n",
       "      <td>13</td>\n",
       "      <td>1</td>\n",
       "    </tr>\n",
       "    <tr>\n",
       "      <th>13</th>\n",
       "      <td>14</td>\n",
       "      <td>1</td>\n",
       "    </tr>\n",
       "    <tr>\n",
       "      <th>14</th>\n",
       "      <td>15</td>\n",
       "      <td>1</td>\n",
       "    </tr>\n",
       "    <tr>\n",
       "      <th>15</th>\n",
       "      <td>16</td>\n",
       "      <td>4</td>\n",
       "    </tr>\n",
       "    <tr>\n",
       "      <th>16</th>\n",
       "      <td>17</td>\n",
       "      <td>3</td>\n",
       "    </tr>\n",
       "    <tr>\n",
       "      <th>17</th>\n",
       "      <td>18</td>\n",
       "      <td>0</td>\n",
       "    </tr>\n",
       "    <tr>\n",
       "      <th>18</th>\n",
       "      <td>19</td>\n",
       "      <td>1</td>\n",
       "    </tr>\n",
       "    <tr>\n",
       "      <th>19</th>\n",
       "      <td>20</td>\n",
       "      <td>0</td>\n",
       "    </tr>\n",
       "    <tr>\n",
       "      <th>20</th>\n",
       "      <td>21</td>\n",
       "      <td>0</td>\n",
       "    </tr>\n",
       "    <tr>\n",
       "      <th>21</th>\n",
       "      <td>22</td>\n",
       "      <td>0</td>\n",
       "    </tr>\n",
       "    <tr>\n",
       "      <th>22</th>\n",
       "      <td>23</td>\n",
       "      <td>0</td>\n",
       "    </tr>\n",
       "    <tr>\n",
       "      <th>23</th>\n",
       "      <td>24</td>\n",
       "      <td>0</td>\n",
       "    </tr>\n",
       "    <tr>\n",
       "      <th>24</th>\n",
       "      <td>25</td>\n",
       "      <td>0</td>\n",
       "    </tr>\n",
       "    <tr>\n",
       "      <th>25</th>\n",
       "      <td>26</td>\n",
       "      <td>0</td>\n",
       "    </tr>\n",
       "    <tr>\n",
       "      <th>26</th>\n",
       "      <td>27</td>\n",
       "      <td>0</td>\n",
       "    </tr>\n",
       "    <tr>\n",
       "      <th>27</th>\n",
       "      <td>28</td>\n",
       "      <td>0</td>\n",
       "    </tr>\n",
       "    <tr>\n",
       "      <th>28</th>\n",
       "      <td>29</td>\n",
       "      <td>0</td>\n",
       "    </tr>\n",
       "    <tr>\n",
       "      <th>29</th>\n",
       "      <td>30</td>\n",
       "      <td>0</td>\n",
       "    </tr>\n",
       "    <tr>\n",
       "      <th>30</th>\n",
       "      <td>31</td>\n",
       "      <td>0</td>\n",
       "    </tr>\n",
       "    <tr>\n",
       "      <th>31</th>\n",
       "      <td>32</td>\n",
       "      <td>0</td>\n",
       "    </tr>\n",
       "    <tr>\n",
       "      <th>32</th>\n",
       "      <td>33</td>\n",
       "      <td>0</td>\n",
       "    </tr>\n",
       "    <tr>\n",
       "      <th>33</th>\n",
       "      <td>34</td>\n",
       "      <td>0</td>\n",
       "    </tr>\n",
       "  </tbody>\n",
       "</table>\n",
       "</div>"
      ],
      "text/plain": [
       "    length_of_service  total_awards\n",
       "0                   1            36\n",
       "1                   2            65\n",
       "2                   3            65\n",
       "3                   4            57\n",
       "4                   5            49\n",
       "5                   6            38\n",
       "6                   7            48\n",
       "7                   8            11\n",
       "8                   9            13\n",
       "9                  10             7\n",
       "10                 11             3\n",
       "11                 12             4\n",
       "12                 13             1\n",
       "13                 14             1\n",
       "14                 15             1\n",
       "15                 16             4\n",
       "16                 17             3\n",
       "17                 18             0\n",
       "18                 19             1\n",
       "19                 20             0\n",
       "20                 21             0\n",
       "21                 22             0\n",
       "22                 23             0\n",
       "23                 24             0\n",
       "24                 25             0\n",
       "25                 26             0\n",
       "26                 27             0\n",
       "27                 28             0\n",
       "28                 29             0\n",
       "29                 30             0\n",
       "30                 31             0\n",
       "31                 32             0\n",
       "32                 33             0\n",
       "33                 34             0"
      ]
     },
     "execution_count": 246,
     "metadata": {},
     "output_type": "execute_result"
    }
   ],
   "source": [
    "awards_vs_service_length"
   ]
  },
  {
   "cell_type": "markdown",
   "id": "3afa2236-5add-4fe2-b3f1-22629bc03147",
   "metadata": {},
   "source": [
    "##### Visualization"
   ]
  },
  {
   "cell_type": "code",
   "execution_count": 249,
   "id": "6777977c-e51b-4e2c-a2a2-9b668caf9616",
   "metadata": {},
   "outputs": [
    {
     "data": {
      "image/png": "[encoded data removed]",
      "text/plain": [
       "<Figure size 640x480 with 1 Axes>"
      ]
     },
     "metadata": {},
     "output_type": "display_data"
    }
   ],
   "source": [
    "awards_vs_service_length.plot(kind='scatter', x='length_of_service', y='total_awards', title='Awards Won vs. Length of Service')\n",
    "plt.xlabel('Length of Service (Years)')\n",
    "plt.ylabel('Total Awards')\n",
    "plt.grid(True)\n",
    "plt.show()"
   ]
  },
  {
   "cell_type": "markdown",
   "id": "068e3f9f-9868-4fd5-aa2a-51c43fc287f0",
   "metadata": {},
   "source": [
    "### 10. Awards Won by Department"
   ]
  },
  {
   "cell_type": "markdown",
   "id": "71bbba4c-ac29-4fb0-a41b-332c53e9d5b6",
   "metadata": {},
   "source": [
    "#####  SQL query for total awards won by department"
   ]
  },
  {
   "cell_type": "code",
   "execution_count": 253,
   "id": "08d0f285-3757-4d73-a6f5-c67c84c3acde",
   "metadata": {},
   "outputs": [],
   "source": [
    "query = '''\n",
    "SELECT department, SUM(awards_won) AS total_awards\n",
    "FROM employee\n",
    "GROUP BY department\n",
    "ORDER BY total_awards DESC;\n",
    "'''"
   ]
  },
  {
   "cell_type": "markdown",
   "id": "e4b976f1-125e-4d70-99c1-9154bb2775ce",
   "metadata": {},
   "source": [
    "##### Execute the query and load the result into a DataFrame"
   ]
  },
  {
   "cell_type": "code",
   "execution_count": 256,
   "id": "ed28c7f0-148d-4ea6-bf72-6dfa28c628b0",
   "metadata": {},
   "outputs": [],
   "source": [
    "awards_by_department = pd.read_sql(query, conn)"
   ]
  },
  {
   "cell_type": "markdown",
   "id": "44167103-a6de-4c3e-8dea-fe6bb3bc0f8b",
   "metadata": {},
   "source": [
    "#####  Display the result"
   ]
  },
  {
   "cell_type": "code",
   "execution_count": 259,
   "id": "faf34acc-015c-4912-aef6-6e0457b3e2bb",
   "metadata": {},
   "outputs": [
    {
     "data": {
      "text/html": [
       "<div>\n",
       "<style scoped>\n",
       "    .dataframe tbody tr th:only-of-type {\n",
       "        vertical-align: middle;\n",
       "    }\n",
       "\n",
       "    .dataframe tbody tr th {\n",
       "        vertical-align: top;\n",
       "    }\n",
       "\n",
       "    .dataframe thead th {\n",
       "        text-align: right;\n",
       "    }\n",
       "</style>\n",
       "<table border=\"1\" class=\"dataframe\">\n",
       "  <thead>\n",
       "    <tr style=\"text-align: right;\">\n",
       "      <th></th>\n",
       "      <th>department</th>\n",
       "      <th>total_awards</th>\n",
       "    </tr>\n",
       "  </thead>\n",
       "  <tbody>\n",
       "    <tr>\n",
       "      <th>0</th>\n",
       "      <td>Sales &amp; Marketing</td>\n",
       "      <td>120</td>\n",
       "    </tr>\n",
       "    <tr>\n",
       "      <th>1</th>\n",
       "      <td>Operations</td>\n",
       "      <td>89</td>\n",
       "    </tr>\n",
       "    <tr>\n",
       "      <th>2</th>\n",
       "      <td>Technology</td>\n",
       "      <td>58</td>\n",
       "    </tr>\n",
       "    <tr>\n",
       "      <th>3</th>\n",
       "      <td>Procurement</td>\n",
       "      <td>57</td>\n",
       "    </tr>\n",
       "    <tr>\n",
       "      <th>4</th>\n",
       "      <td>Analytics</td>\n",
       "      <td>43</td>\n",
       "    </tr>\n",
       "    <tr>\n",
       "      <th>5</th>\n",
       "      <td>Finance</td>\n",
       "      <td>15</td>\n",
       "    </tr>\n",
       "    <tr>\n",
       "      <th>6</th>\n",
       "      <td>HR</td>\n",
       "      <td>14</td>\n",
       "    </tr>\n",
       "    <tr>\n",
       "      <th>7</th>\n",
       "      <td>Legal</td>\n",
       "      <td>6</td>\n",
       "    </tr>\n",
       "    <tr>\n",
       "      <th>8</th>\n",
       "      <td>R&amp;D</td>\n",
       "      <td>5</td>\n",
       "    </tr>\n",
       "  </tbody>\n",
       "</table>\n",
       "</div>"
      ],
      "text/plain": [
       "          department  total_awards\n",
       "0  Sales & Marketing           120\n",
       "1         Operations            89\n",
       "2         Technology            58\n",
       "3        Procurement            57\n",
       "4          Analytics            43\n",
       "5            Finance            15\n",
       "6                 HR            14\n",
       "7              Legal             6\n",
       "8                R&D             5"
      ]
     },
     "execution_count": 259,
     "metadata": {},
     "output_type": "execute_result"
    }
   ],
   "source": [
    "awards_by_department"
   ]
  },
  {
   "cell_type": "markdown",
   "id": "841e2cb0-6bb2-42ed-94f1-956826765923",
   "metadata": {},
   "source": [
    "#####  Visualization"
   ]
  },
  {
   "cell_type": "code",
   "execution_count": 262,
   "id": "ced3db5a-f9db-4ae1-a661-fd42a58f3a3c",
   "metadata": {},
   "outputs": [
    {
     "data": {
      "image/png": "[encoded data removed]",
      "text/plain": [
       "<Figure size 640x480 with 1 Axes>"
      ]
     },
     "metadata": {},
     "output_type": "display_data"
    }
   ],
   "source": [
    "awards_by_department.plot(kind='bar', x='department', y='total_awards', title='Total Awards Won by Department')\n",
    "plt.xlabel('Department')\n",
    "plt.ylabel('Total Awards')\n",
    "plt.xticks(rotation=45)\n",
    "plt.show()"
   ]
  },
  {
   "cell_type": "markdown",
   "id": "03b6a643-5e06-4be2-b279-bd6f9fc73c37",
   "metadata": {},
   "source": [
    "### 11.  Average Training Score by Recruitment Channel"
   ]
  },
  {
   "cell_type": "markdown",
   "id": "f393a432-1e8f-41f3-b1fe-b0fcb8362718",
   "metadata": {},
   "source": [
    "#####  SQL query for average training score by recruitment channel"
   ]
  },
  {
   "cell_type": "code",
   "execution_count": 267,
   "id": "ef9c26c5-8f93-4aaa-ad0c-537bcabdb750",
   "metadata": {},
   "outputs": [],
   "source": [
    "query = '''\n",
    "SELECT recruitment_channel, AVG(avg_training_score) AS average_training_score\n",
    "FROM employee\n",
    "GROUP BY recruitment_channel\n",
    "ORDER BY average_training_score DESC;\n",
    "'''"
   ]
  },
  {
   "cell_type": "markdown",
   "id": "59b5a4e8-0661-4547-bf38-26e44e29193c",
   "metadata": {},
   "source": [
    "##### Execute the query and load the result into a DataFrame"
   ]
  },
  {
   "cell_type": "code",
   "execution_count": 272,
   "id": "2d512c4d-01bf-4263-b1d6-93b7c8e8c4fc",
   "metadata": {},
   "outputs": [],
   "source": [
    "training_score_by_recruitment_channel = pd.read_sql(query, conn)"
   ]
  },
  {
   "cell_type": "markdown",
   "id": "86993f51-8c75-4305-bbde-85ec8f6b5b27",
   "metadata": {},
   "source": [
    "##### Display the result"
   ]
  },
  {
   "cell_type": "code",
   "execution_count": 275,
   "id": "0d1090f4-f904-4c7a-8325-4594e832a2b4",
   "metadata": {},
   "outputs": [
    {
     "data": {
      "text/html": [
       "<div>\n",
       "<style scoped>\n",
       "    .dataframe tbody tr th:only-of-type {\n",
       "        vertical-align: middle;\n",
       "    }\n",
       "\n",
       "    .dataframe tbody tr th {\n",
       "        vertical-align: top;\n",
       "    }\n",
       "\n",
       "    .dataframe thead th {\n",
       "        text-align: right;\n",
       "    }\n",
       "</style>\n",
       "<table border=\"1\" class=\"dataframe\">\n",
       "  <thead>\n",
       "    <tr style=\"text-align: right;\">\n",
       "      <th></th>\n",
       "      <th>recruitment_channel</th>\n",
       "      <th>average_training_score</th>\n",
       "    </tr>\n",
       "  </thead>\n",
       "  <tbody>\n",
       "    <tr>\n",
       "      <th>0</th>\n",
       "      <td>referred</td>\n",
       "      <td>64.507886</td>\n",
       "    </tr>\n",
       "    <tr>\n",
       "      <th>1</th>\n",
       "      <td>other</td>\n",
       "      <td>63.403959</td>\n",
       "    </tr>\n",
       "    <tr>\n",
       "      <th>2</th>\n",
       "      <td>sourcing</td>\n",
       "      <td>62.816846</td>\n",
       "    </tr>\n",
       "  </tbody>\n",
       "</table>\n",
       "</div>"
      ],
      "text/plain": [
       "  recruitment_channel  average_training_score\n",
       "0            referred               64.507886\n",
       "1               other               63.403959\n",
       "2            sourcing               62.816846"
      ]
     },
     "execution_count": 275,
     "metadata": {},
     "output_type": "execute_result"
    }
   ],
   "source": [
    "training_score_by_recruitment_channel"
   ]
  },
  {
   "cell_type": "markdown",
   "id": "58d54116-9a3b-4766-8300-a87c09b0303e",
   "metadata": {},
   "source": [
    "#####  Visualization"
   ]
  },
  {
   "cell_type": "code",
   "execution_count": 278,
   "id": "c24ede34-3b6b-4e62-8ad6-95d98c22a85a",
   "metadata": {},
   "outputs": [
    {
     "data": {
      "image/png": "[encoded data removed]",
      "text/plain": [
       "<Figure size 640x480 with 1 Axes>"
      ]
     },
     "metadata": {},
     "output_type": "display_data"
    }
   ],
   "source": [
    "training_score_by_recruitment_channel.plot(kind='bar', x='recruitment_channel', y='average_training_score', title='Average Training Score by Recruitment Channel')\n",
    "plt.xlabel('Recruitment Channel')\n",
    "plt.ylabel('Average Training Score')\n",
    "plt.xticks(rotation=45)\n",
    "plt.show()"
   ]
  },
  {
   "cell_type": "markdown",
   "id": "545f787d-906d-4650-a799-9bddf8d9b0f4",
   "metadata": {},
   "source": [
    "### 12.Average Training Score of Employees with More Than 3 Years of Service"
   ]
  },
  {
   "cell_type": "markdown",
   "id": "d0c274b8-93cc-4df6-bc24-b5a9919a9e18",
   "metadata": {},
   "source": [
    "#####  SQL query to find average training score of employees with more than 3 years of service"
   ]
  },
  {
   "cell_type": "code",
   "execution_count": 282,
   "id": "337ff1ae-e0ef-4ce7-b435-6195800a16a4",
   "metadata": {},
   "outputs": [],
   "source": [
    "query = '''\n",
    "SELECT AVG(avg_training_score) AS average_training_score\n",
    "FROM employee\n",
    "WHERE length_of_service > 3;\n",
    "'''\n"
   ]
  },
  {
   "cell_type": "markdown",
   "id": "fd246db1-023a-4af4-bfd3-bca3c62f9b9a",
   "metadata": {},
   "source": [
    "##### Execute the query and load the result into a DataFrame"
   ]
  },
  {
   "cell_type": "code",
   "execution_count": 285,
   "id": "973b51a8-9475-4e7c-b102-715a555f5ef7",
   "metadata": {},
   "outputs": [],
   "source": [
    "avg_training_score_long_service = pd.read_sql(query, conn)"
   ]
  },
  {
   "cell_type": "markdown",
   "id": "c87256ee-914c-4565-b2d2-4c8e6ac8ba8e",
   "metadata": {},
   "source": [
    "##### Display the result"
   ]
  },
  {
   "cell_type": "code",
   "execution_count": 288,
   "id": "6f4af645-9bb7-437d-a6a8-2526e4708a72",
   "metadata": {},
   "outputs": [
    {
     "data": {
      "text/html": [
       "<div>\n",
       "<style scoped>\n",
       "    .dataframe tbody tr th:only-of-type {\n",
       "        vertical-align: middle;\n",
       "    }\n",
       "\n",
       "    .dataframe tbody tr th {\n",
       "        vertical-align: top;\n",
       "    }\n",
       "\n",
       "    .dataframe thead th {\n",
       "        text-align: right;\n",
       "    }\n",
       "</style>\n",
       "<table border=\"1\" class=\"dataframe\">\n",
       "  <thead>\n",
       "    <tr style=\"text-align: right;\">\n",
       "      <th></th>\n",
       "      <th>average_training_score</th>\n",
       "    </tr>\n",
       "  </thead>\n",
       "  <tbody>\n",
       "    <tr>\n",
       "      <th>0</th>\n",
       "      <td>63.122408</td>\n",
       "    </tr>\n",
       "  </tbody>\n",
       "</table>\n",
       "</div>"
      ],
      "text/plain": [
       "   average_training_score\n",
       "0               63.122408"
      ]
     },
     "execution_count": 288,
     "metadata": {},
     "output_type": "execute_result"
    }
   ],
   "source": [
    "avg_training_score_long_service"
   ]
  },
  {
   "cell_type": "markdown",
   "id": "0a65c197-5f38-450c-a857-149b32edd612",
   "metadata": {},
   "source": [
    "### 13. Average Training Score by Gender"
   ]
  },
  {
   "cell_type": "markdown",
   "id": "3b101748-4ee7-4939-8be6-ae48a304a820",
   "metadata": {},
   "source": [
    "#####  SQL query for average training score by gender"
   ]
  },
  {
   "cell_type": "code",
   "execution_count": 296,
   "id": "dd3521e9-d219-4971-84e5-8a8497b83208",
   "metadata": {},
   "outputs": [],
   "source": [
    "query = '''\n",
    "SELECT gender, AVG(avg_training_score) AS average_training_score\n",
    "FROM employee\n",
    "GROUP BY gender\n",
    "ORDER BY average_training_score DESC;\n",
    "'''"
   ]
  },
  {
   "cell_type": "markdown",
   "id": "8672e3d5-5989-43e3-a547-bddd4ce46f96",
   "metadata": {},
   "source": [
    "##### Execute the query and load the result into a DataFrame"
   ]
  },
  {
   "cell_type": "code",
   "execution_count": 299,
   "id": "66ac7d50-e6a1-4306-8b72-c8872a94ef46",
   "metadata": {},
   "outputs": [],
   "source": [
    "training_score_by_gender = pd.read_sql(query, conn)"
   ]
  },
  {
   "cell_type": "markdown",
   "id": "fb41d474-4cc2-4861-86bd-d8089127123a",
   "metadata": {},
   "source": [
    "##### Display the result"
   ]
  },
  {
   "cell_type": "code",
   "execution_count": 302,
   "id": "ca42ad09-7744-41f3-aefb-a009f7ab6540",
   "metadata": {},
   "outputs": [
    {
     "data": {
      "text/html": [
       "<div>\n",
       "<style scoped>\n",
       "    .dataframe tbody tr th:only-of-type {\n",
       "        vertical-align: middle;\n",
       "    }\n",
       "\n",
       "    .dataframe tbody tr th {\n",
       "        vertical-align: top;\n",
       "    }\n",
       "\n",
       "    .dataframe thead th {\n",
       "        text-align: right;\n",
       "    }\n",
       "</style>\n",
       "<table border=\"1\" class=\"dataframe\">\n",
       "  <thead>\n",
       "    <tr style=\"text-align: right;\">\n",
       "      <th></th>\n",
       "      <th>gender</th>\n",
       "      <th>average_training_score</th>\n",
       "    </tr>\n",
       "  </thead>\n",
       "  <tbody>\n",
       "    <tr>\n",
       "      <th>0</th>\n",
       "      <td>f</td>\n",
       "      <td>63.680776</td>\n",
       "    </tr>\n",
       "    <tr>\n",
       "      <th>1</th>\n",
       "      <td>m</td>\n",
       "      <td>62.967273</td>\n",
       "    </tr>\n",
       "  </tbody>\n",
       "</table>\n",
       "</div>"
      ],
      "text/plain": [
       "  gender  average_training_score\n",
       "0      f               63.680776\n",
       "1      m               62.967273"
      ]
     },
     "execution_count": 302,
     "metadata": {},
     "output_type": "execute_result"
    }
   ],
   "source": [
    "training_score_by_gender"
   ]
  },
  {
   "cell_type": "markdown",
   "id": "7dd92351-3136-4491-a8bd-a60565edab25",
   "metadata": {},
   "source": [
    "##### Visualization"
   ]
  },
  {
   "cell_type": "code",
   "execution_count": 307,
   "id": "41e03668-197b-4c3e-97e6-22f586cc5a23",
   "metadata": {},
   "outputs": [
    {
     "data": {
      "image/png": "[encoded data removed]",
      "text/plain": [
       "<Figure size 640x480 with 1 Axes>"
      ]
     },
     "metadata": {},
     "output_type": "display_data"
    }
   ],
   "source": [
    "training_score_by_gender.plot(kind='bar', x='gender', y='average_training_score', title='Average Training Score by Gender')\n",
    "plt.xlabel('Gender')\n",
    "plt.ylabel('Average Training Score')\n",
    "plt.xticks(rotation=0)\n",
    "plt.show()"
   ]
  },
  {
   "cell_type": "code",
   "execution_count": null,
   "id": "7ac37dd9-53b6-47bc-bef8-aca213eaf843",
   "metadata": {},
   "outputs": [],
   "source": []
  }
 ],
 "metadata": {
  "kernelspec": {
   "display_name": "Python 3 (ipykernel)",
   "language": "python",
   "name": "python3"
  },
  "language_info": {
   "codemirror_mode": {
    "name": "ipython",
    "version": 3
   },
   "file_extension": ".py",
   "mimetype": "text/x-python",
   "name": "python",
   "nbconvert_exporter": "python",
   "pygments_lexer": "ipython3",
   "version": "3.12.4"
  }
 },
 "nbformat": 4,
 "nbformat_minor": 5
}
